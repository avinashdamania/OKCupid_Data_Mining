{
 "cells": [
  {
   "cell_type": "markdown",
   "metadata": {},
   "source": [
    "# Name(s): Ojas Patel, Pranav Naravetla, Suhas Dara, Avinash Damania"
   ]
  },
  {
   "cell_type": "markdown",
   "metadata": {},
   "source": [
    "# OKCupid Data Mining Project"
   ]
  },
  {
   "cell_type": "markdown",
   "metadata": {},
   "source": [
    "## Introduction\n",
    "\n",
    "In this project, we will use an OKCupid dataset to solve the problem of predicting ___ using information from dating profiles such as physical traits and lifestyle choices.\n",
    "\n",
    "\n",
    "(What is the data science problem you are trying to solve? Why does the problem matter? What could the results of your predictive model be used for? Why would we want to be able to predict the thing you’re trying to predict? Then describe the dataset that you will use to tackle this problem.)"
   ]
  },
  {
   "cell_type": "code",
   "execution_count": 13,
   "metadata": {
    "collapsed": true
   },
   "outputs": [],
   "source": [
    "# Some headers\n",
    "import random\n",
    "import numpy as np\n",
    "import pandas as pd\n",
    "import matplotlib.pyplot as plt\n",
    "from numpy.random import rand\n",
    "from numpy import square, sqrt\n",
    "from pandas import DataFrame\n",
    "from sklearn.manifold import MDS\n",
    "from sklearn.model_selection import StratifiedKFold\n",
    "from scipy.spatial.distance import pdist"
   ]
  },
  {
   "cell_type": "markdown",
   "metadata": {},
   "source": [
    "## Data Prep\n",
    "\n",
    "In this section, we will clean the data in preparation for use in training our models."
   ]
  },
  {
   "cell_type": "code",
   "execution_count": 87,
   "metadata": {},
   "outputs": [
    {
     "data": {
      "text/plain": [
       "graduated from college/university    7798\n",
       "graduated from masters program       2960\n",
       "working on college/university        1930\n",
       "working on masters program            590\n",
       "graduated from two-year college       539\n",
       "graduated from high school            480\n",
       "graduated from ph.d program           420\n",
       "graduated from law school             365\n",
       "working on two-year college           355\n",
       "working on ph.d program               312\n",
       "dropped out of college/university     297\n",
       "college/university                    262\n",
       "graduated from space camp             227\n",
       "dropped out of space camp             166\n",
       "graduated from med school             160\n",
       "working on space camp                 143\n",
       "working on law school                  90\n",
       "working on med school                  68\n",
       "dropped out of two-year college        65\n",
       "two-year college                       59\n",
       "masters program                        47\n",
       "dropped out of masters program         44\n",
       "dropped out of ph.d program            42\n",
       "high school                            40\n",
       "dropped out of high school             38\n",
       "working on high school                 26\n",
       "space camp                             13\n",
       "ph.d program                            7\n",
       "med school                              6\n",
       "dropped out of law school               4\n",
       "law school                              4\n",
       "dropped out of med school               3\n",
       "Name: education, dtype: int64"
      ]
     },
     "execution_count": 87,
     "metadata": {},
     "output_type": "execute_result"
    }
   ],
   "source": [
    "df = pd.read_csv(\"final_profiles.csv\")\n",
    "df.columns\n",
    "\n",
    "label = df['education']\n",
    "data = df.drop(columns=['education'])\n",
    "label.value_counts()"
   ]
  },
  {
   "cell_type": "code",
   "execution_count": 67,
   "metadata": {},
   "outputs": [
    {
     "data": {
      "text/plain": [
       "Unnamed: 0     1978\n",
       "age            1978\n",
       "body_type      1807\n",
       "diet           1157\n",
       "drinks         1885\n",
       "drugs          1536\n",
       "education      1782\n",
       "essay0         1780\n",
       "essay1         1719\n",
       "essay2         1665\n",
       "essay3         1606\n",
       "essay4         1633\n",
       "essay5         1623\n",
       "essay6         1547\n",
       "essay7         1574\n",
       "essay8         1328\n",
       "essay9         1577\n",
       "ethnicity      1793\n",
       "height         1978\n",
       "income         1978\n",
       "job            1717\n",
       "last_online    1978\n",
       "location       1978\n",
       "offspring       811\n",
       "orientation    1978\n",
       "pets           1311\n",
       "religion       1319\n",
       "sex            1978\n",
       "sign           1644\n",
       "smokes         1795\n",
       "speaks         1975\n",
       "status         1978\n",
       "dtype: int64"
      ]
     },
     "execution_count": 67,
     "metadata": {},
     "output_type": "execute_result"
    }
   ],
   "source": [
    "label_engineering = {\n",
    "    'graduated from college/university': 'bachelors',\n",
    "    'greatued from masters program': 'masters',\n",
    "    'working on college/university': 'currently studying',\n",
    "    'working on masters program': 'currently studying',\n",
    "    'graduated from two-year college': 'two-year college',\n",
    "    'graduated from high school': 'high school',\n",
    "    'graduated from ph.d program': 'ph.d',\n",
    "}\n",
    "\n",
    "df.count()"
   ]
  },
  {
   "cell_type": "code",
   "execution_count": 88,
   "metadata": {},
   "outputs": [],
   "source": [
    "data = data.drop(columns = ['Unnamed: 0', 'essay0', 'essay1','essay2','essay3','essay4','essay5','essay6','essay7'\n",
    "                  ,'essay8','essay9','last_online','sign','offspring', 'diet', 'speaks','location','status'],axis=0)\n",
    "#dropping diet, offspring, speaks as they are either too many unique values or missing values"
   ]
  },
  {
   "cell_type": "code",
   "execution_count": 89,
   "metadata": {},
   "outputs": [
    {
     "data": {
      "text/plain": [
       "Index(['age', 'body_type', 'drinks', 'drugs', 'ethnicity', 'height', 'income',\n",
       "       'job', 'orientation', 'pets', 'religion', 'sex', 'smokes'],\n",
       "      dtype='object')"
      ]
     },
     "execution_count": 89,
     "metadata": {},
     "output_type": "execute_result"
    }
   ],
   "source": [
    "data.columns"
   ]
  },
  {
   "cell_type": "markdown",
   "metadata": {},
   "source": [
    "## Data Exploration"
   ]
  },
  {
   "cell_type": "markdown",
   "metadata": {},
   "source": [
    "## Feature Engineering"
   ]
  },
  {
   "cell_type": "markdown",
   "metadata": {},
   "source": [
    "## Modeling"
   ]
  },
  {
   "cell_type": "markdown",
   "metadata": {},
   "source": [
    "## Results and Analysis"
   ]
  }
 ],
 "metadata": {
  "kernelspec": {
   "display_name": "Python 3",
   "language": "python",
   "name": "python3"
  },
  "language_info": {
   "codemirror_mode": {
    "name": "ipython",
    "version": 3
   },
   "file_extension": ".py",
   "mimetype": "text/x-python",
   "name": "python",
   "nbconvert_exporter": "python",
   "pygments_lexer": "ipython3",
   "version": "3.6.3"
  }
 },
 "nbformat": 4,
 "nbformat_minor": 2
}
