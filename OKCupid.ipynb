{
 "cells": [
  {
   "cell_type": "markdown",
   "metadata": {},
   "source": [
    "# Name(s): Ojas Patel, Pranav Naravetla, Suhas Dara, Avinash Damania"
   ]
  },
  {
   "cell_type": "markdown",
   "metadata": {},
   "source": [
    "# OKCupid Data Mining Project"
   ]
  },
  {
   "cell_type": "markdown",
   "metadata": {},
   "source": [
    "## Introduction\n",
    "\n",
    "In this project, we will use an OKCupid dataset to solve the problem of predicting ___ using information from dating profiles such as physical traits and lifestyle choices.\n",
    "\n",
    "\n",
    "(What is the data science problem you are trying to solve? Why does the problem matter? What could the results of your predictive model be used for? Why would we want to be able to predict the thing you’re trying to predict? Then describe the dataset that you will use to tackle this problem.)"
   ]
  },
  {
   "cell_type": "code",
   "execution_count": 2,
   "metadata": {
    "collapsed": true
   },
   "outputs": [],
   "source": [
    "# Some headers\n",
    "import random\n",
    "import numpy as np\n",
    "import pandas as pd\n",
    "import matplotlib.pyplot as plt\n",
    "from numpy.random import rand\n",
    "from numpy import square, sqrt\n",
    "from pandas import DataFrame\n",
    "from sklearn.manifold import MDS\n",
    "from sklearn.model_selection import StratifiedKFold\n",
    "from scipy.spatial.distance import pdist"
   ]
  },
  {
   "cell_type": "markdown",
   "metadata": {},
   "source": [
    "## Data Prep\n",
    "\n",
    "In this section, we will clean the data in preparation for use in training our models."
   ]
  },
  {
   "cell_type": "code",
   "execution_count": 25,
   "metadata": {},
   "outputs": [
    {
     "data": {
      "text/html": [
       "<div>\n",
       "<style scoped>\n",
       "    .dataframe tbody tr th:only-of-type {\n",
       "        vertical-align: middle;\n",
       "    }\n",
       "\n",
       "    .dataframe tbody tr th {\n",
       "        vertical-align: top;\n",
       "    }\n",
       "\n",
       "    .dataframe thead th {\n",
       "        text-align: right;\n",
       "    }\n",
       "</style>\n",
       "<table border=\"1\" class=\"dataframe\">\n",
       "  <thead>\n",
       "    <tr style=\"text-align: right;\">\n",
       "      <th></th>\n",
       "      <th>Unnamed: 0</th>\n",
       "      <th>age</th>\n",
       "      <th>body_type</th>\n",
       "      <th>diet</th>\n",
       "      <th>drinks</th>\n",
       "      <th>drugs</th>\n",
       "      <th>essay0</th>\n",
       "      <th>essay1</th>\n",
       "      <th>essay2</th>\n",
       "      <th>essay3</th>\n",
       "      <th>...</th>\n",
       "      <th>location</th>\n",
       "      <th>offspring</th>\n",
       "      <th>orientation</th>\n",
       "      <th>pets</th>\n",
       "      <th>religion</th>\n",
       "      <th>sex</th>\n",
       "      <th>sign</th>\n",
       "      <th>smokes</th>\n",
       "      <th>speaks</th>\n",
       "      <th>status</th>\n",
       "    </tr>\n",
       "  </thead>\n",
       "  <tbody>\n",
       "    <tr>\n",
       "      <th>0</th>\n",
       "      <td>0</td>\n",
       "      <td>28</td>\n",
       "      <td>athletic</td>\n",
       "      <td>mostly anything</td>\n",
       "      <td>socially</td>\n",
       "      <td>sometimes</td>\n",
       "      <td>i'm looking to meet someone who i have a lot i...</td>\n",
       "      <td>i work in the tech industry during the day, an...</td>\n",
       "      <td>i'm an expert at scrabble, designing ambigrams...</td>\n",
       "      <td>my lip ring, which i use to distract people fr...</td>\n",
       "      <td>...</td>\n",
       "      <td>san francisco, california</td>\n",
       "      <td>NaN</td>\n",
       "      <td>straight</td>\n",
       "      <td>likes dogs and has cats</td>\n",
       "      <td>christianity and laughing about it</td>\n",
       "      <td>m</td>\n",
       "      <td>taurus but it doesn&amp;rsquo;t matter</td>\n",
       "      <td>no</td>\n",
       "      <td>english (fluently), chinese (fluently), japane...</td>\n",
       "      <td>single</td>\n",
       "    </tr>\n",
       "    <tr>\n",
       "      <th>1</th>\n",
       "      <td>1</td>\n",
       "      <td>34</td>\n",
       "      <td>average</td>\n",
       "      <td>mostly anything</td>\n",
       "      <td>socially</td>\n",
       "      <td>never</td>\n",
       "      <td>they say i'm a smart, funny, worldly girl who ...</td>\n",
       "      <td>i'm transitioning from a lost, once ambitious ...</td>\n",
       "      <td>listening&lt;br /&gt;\\n&lt;br /&gt;\\nnot judging others&lt;br...</td>\n",
       "      <td>eyes&lt;br /&gt;\\n&lt;br /&gt;\\nsmile&lt;br /&gt;\\n&lt;br /&gt;\\nthoug...</td>\n",
       "      <td>...</td>\n",
       "      <td>san francisco, california</td>\n",
       "      <td>NaN</td>\n",
       "      <td>straight</td>\n",
       "      <td>has dogs and likes cats</td>\n",
       "      <td>NaN</td>\n",
       "      <td>f</td>\n",
       "      <td>aries and it&amp;rsquo;s fun to think about</td>\n",
       "      <td>no</td>\n",
       "      <td>english</td>\n",
       "      <td>single</td>\n",
       "    </tr>\n",
       "    <tr>\n",
       "      <th>2</th>\n",
       "      <td>2</td>\n",
       "      <td>29</td>\n",
       "      <td>fit</td>\n",
       "      <td>mostly anything</td>\n",
       "      <td>socially</td>\n",
       "      <td>never</td>\n",
       "      <td>update: i am in bmore/philly till may 27th for...</td>\n",
       "      <td>i'm self-employed events technician and it's w...</td>\n",
       "      <td>being a smart ass, saying inappropriate things...</td>\n",
       "      <td>my charming good looks and the piece of lettuc...</td>\n",
       "      <td>...</td>\n",
       "      <td>oakland, california</td>\n",
       "      <td>NaN</td>\n",
       "      <td>straight</td>\n",
       "      <td>likes dogs and likes cats</td>\n",
       "      <td>NaN</td>\n",
       "      <td>m</td>\n",
       "      <td>NaN</td>\n",
       "      <td>no</td>\n",
       "      <td>english (fluently), swedish (okay), spanish (p...</td>\n",
       "      <td>single</td>\n",
       "    </tr>\n",
       "    <tr>\n",
       "      <th>3</th>\n",
       "      <td>3</td>\n",
       "      <td>45</td>\n",
       "      <td>athletic</td>\n",
       "      <td>NaN</td>\n",
       "      <td>not at all</td>\n",
       "      <td>never</td>\n",
       "      <td>NaN</td>\n",
       "      <td>NaN</td>\n",
       "      <td>NaN</td>\n",
       "      <td>NaN</td>\n",
       "      <td>...</td>\n",
       "      <td>san francisco, california</td>\n",
       "      <td>NaN</td>\n",
       "      <td>gay</td>\n",
       "      <td>likes dogs and likes cats</td>\n",
       "      <td>other</td>\n",
       "      <td>m</td>\n",
       "      <td>cancer</td>\n",
       "      <td>no</td>\n",
       "      <td>english, spanish (poorly)</td>\n",
       "      <td>single</td>\n",
       "    </tr>\n",
       "    <tr>\n",
       "      <th>4</th>\n",
       "      <td>4</td>\n",
       "      <td>37</td>\n",
       "      <td>average</td>\n",
       "      <td>NaN</td>\n",
       "      <td>socially</td>\n",
       "      <td>NaN</td>\n",
       "      <td>hmmi freely give compliments. i appreciate a g...</td>\n",
       "      <td>i'm a teacher by day and i usually love it. i'...</td>\n",
       "      <td>NaN</td>\n",
       "      <td>NaN</td>\n",
       "      <td>...</td>\n",
       "      <td>san francisco, california</td>\n",
       "      <td>NaN</td>\n",
       "      <td>straight</td>\n",
       "      <td>NaN</td>\n",
       "      <td>NaN</td>\n",
       "      <td>f</td>\n",
       "      <td>taurus and it&amp;rsquo;s fun to think about</td>\n",
       "      <td>no</td>\n",
       "      <td>english</td>\n",
       "      <td>single</td>\n",
       "    </tr>\n",
       "  </tbody>\n",
       "</table>\n",
       "<p>5 rows × 31 columns</p>\n",
       "</div>"
      ],
      "text/plain": [
       "   Unnamed: 0  age body_type             diet      drinks      drugs  \\\n",
       "0           0   28  athletic  mostly anything    socially  sometimes   \n",
       "1           1   34   average  mostly anything    socially      never   \n",
       "2           2   29       fit  mostly anything    socially      never   \n",
       "3           3   45  athletic              NaN  not at all      never   \n",
       "4           4   37   average              NaN    socially        NaN   \n",
       "\n",
       "                                              essay0  \\\n",
       "0  i'm looking to meet someone who i have a lot i...   \n",
       "1  they say i'm a smart, funny, worldly girl who ...   \n",
       "2  update: i am in bmore/philly till may 27th for...   \n",
       "3                                                NaN   \n",
       "4  hmmi freely give compliments. i appreciate a g...   \n",
       "\n",
       "                                              essay1  \\\n",
       "0  i work in the tech industry during the day, an...   \n",
       "1  i'm transitioning from a lost, once ambitious ...   \n",
       "2  i'm self-employed events technician and it's w...   \n",
       "3                                                NaN   \n",
       "4  i'm a teacher by day and i usually love it. i'...   \n",
       "\n",
       "                                              essay2  \\\n",
       "0  i'm an expert at scrabble, designing ambigrams...   \n",
       "1  listening<br />\\n<br />\\nnot judging others<br...   \n",
       "2  being a smart ass, saying inappropriate things...   \n",
       "3                                                NaN   \n",
       "4                                                NaN   \n",
       "\n",
       "                                              essay3   ...    \\\n",
       "0  my lip ring, which i use to distract people fr...   ...     \n",
       "1  eyes<br />\\n<br />\\nsmile<br />\\n<br />\\nthoug...   ...     \n",
       "2  my charming good looks and the piece of lettuc...   ...     \n",
       "3                                                NaN   ...     \n",
       "4                                                NaN   ...     \n",
       "\n",
       "                    location offspring orientation                       pets  \\\n",
       "0  san francisco, california       NaN    straight    likes dogs and has cats   \n",
       "1  san francisco, california       NaN    straight    has dogs and likes cats   \n",
       "2        oakland, california       NaN    straight  likes dogs and likes cats   \n",
       "3  san francisco, california       NaN         gay  likes dogs and likes cats   \n",
       "4  san francisco, california       NaN    straight                        NaN   \n",
       "\n",
       "                             religion sex  \\\n",
       "0  christianity and laughing about it   m   \n",
       "1                                 NaN   f   \n",
       "2                                 NaN   m   \n",
       "3                               other   m   \n",
       "4                                 NaN   f   \n",
       "\n",
       "                                       sign  smokes  \\\n",
       "0        taurus but it doesn&rsquo;t matter      no   \n",
       "1   aries and it&rsquo;s fun to think about      no   \n",
       "2                                       NaN      no   \n",
       "3                                    cancer      no   \n",
       "4  taurus and it&rsquo;s fun to think about      no   \n",
       "\n",
       "                                              speaks  status  \n",
       "0  english (fluently), chinese (fluently), japane...  single  \n",
       "1                                            english  single  \n",
       "2  english (fluently), swedish (okay), spanish (p...  single  \n",
       "3                          english, spanish (poorly)  single  \n",
       "4                                            english  single  \n",
       "\n",
       "[5 rows x 31 columns]"
      ]
     },
     "execution_count": 25,
     "metadata": {},
     "output_type": "execute_result"
    }
   ],
   "source": [
    "df = pd.read_csv(\"test_profiles.csv\")\n",
    "df.columns\n",
    "\n",
    "# we must drop rows that do not have an education value\n",
    "df = df[df.education.notnull()]\n",
    "\n",
    "label = df['education']\n",
    "data = df.drop(columns=['education'])\n",
    "\n",
    "data.head()"
   ]
  },
  {
   "cell_type": "code",
   "execution_count": 26,
   "metadata": {},
   "outputs": [
    {
     "data": {
      "text/plain": [
       "1782"
      ]
     },
     "execution_count": 26,
     "metadata": {},
     "output_type": "execute_result"
    }
   ],
   "source": [
    "len(data)"
   ]
  },
  {
   "cell_type": "code",
   "execution_count": 27,
   "metadata": {},
   "outputs": [
    {
     "data": {
      "text/plain": [
       "Unnamed: 0     1782\n",
       "age            1782\n",
       "body_type      1635\n",
       "diet           1082\n",
       "drinks         1727\n",
       "drugs          1392\n",
       "essay0         1615\n",
       "essay1         1572\n",
       "essay2         1530\n",
       "essay3         1469\n",
       "essay4         1509\n",
       "essay5         1497\n",
       "essay6         1429\n",
       "essay7         1451\n",
       "essay8         1235\n",
       "essay9         1453\n",
       "ethnicity      1627\n",
       "height         1782\n",
       "income         1782\n",
       "job            1609\n",
       "last_online    1782\n",
       "location       1782\n",
       "offspring       757\n",
       "orientation    1782\n",
       "pets           1230\n",
       "religion       1243\n",
       "sex            1782\n",
       "sign           1511\n",
       "smokes         1645\n",
       "speaks         1780\n",
       "status         1782\n",
       "dtype: int64"
      ]
     },
     "execution_count": 27,
     "metadata": {},
     "output_type": "execute_result"
    }
   ],
   "source": [
    "data.count()"
   ]
  },
  {
   "cell_type": "code",
   "execution_count": 28,
   "metadata": {},
   "outputs": [],
   "source": [
    "data = data.drop(columns = ['Unnamed: 0', 'essay0', 'essay1','essay2','essay3','essay4','essay5','essay6','essay7'\n",
    "                  ,'essay8','essay9','last_online','sign','offspring', 'diet', 'speaks','location','status'],axis=0)\n",
    "\n",
    "# removing Unnamed: 0 as it is a repeat of the index\n",
    "\n",
    "# removing essay0, essay1, essay2, essay3, essay4, essay5, essay6, essay7, essay8, essay9 as every row has \n",
    "#a unique value\n",
    "\n",
    "# removing last_online as it can't be used to predict the label (education)\n",
    "\n",
    "# removing sign as it can't be used to predict the label (education)\n",
    "\n",
    "# removing offspring as too many rows have NaN as a value\n",
    "\n",
    "# removing diet as too many rows have NaN as a value\n",
    "\n",
    "# removing speaks as there are too many distinct values and cannot be mapped into a smaller domain\n",
    "\n",
    "# removing location as there art too many distinct values and it cannot be used to predict the label (educatin)\n",
    "\n",
    "# removing status as there is a heavy imbalance with almost all of the values being 'single'"
   ]
  },
  {
   "cell_type": "code",
   "execution_count": null,
   "metadata": {
    "collapsed": true
   },
   "outputs": [],
   "source": []
  },
  {
   "cell_type": "code",
   "execution_count": 29,
   "metadata": {
    "collapsed": true
   },
   "outputs": [],
   "source": [
    "label_engineering = {\n",
    "    'graduated from college/university': 'bachelors',\n",
    "    'greatued from masters program': 'advanced degree',\n",
    "    'working on college/university': 'bachelors',\n",
    "    'working on masters program': 'advanced degree',\n",
    "    'graduated from two-year college': 'associates',\n",
    "    'graduated from high school': 'high-school',\n",
    "    'graduated from ph.d program': 'advanced degree',\n",
    "    'graduated from law school': 'advanced degree',\n",
    "    'working on two-year college': 'advanced degree',\n",
    "    'working on ph.d program': 'advanced degree',\n",
    "    'dropped out of college/university': 'high-school',\n",
    "    'college/university': 'bachelors',\n",
    "    'graduated from space camp': 'spacecamp',\n",
    "    'dropped out of space camp': 'spacecamp',\n",
    "    'graduated from med school': 'advanced degree',\n",
    "    'working on space camp': 'spacecamp',\n",
    "    'working on law school': 'advanced degree',\n",
    "    'working on med school': 'advanced degree',\n",
    "    'dropped out of two-year college': 'high-school',\n",
    "    'two-year college': 'advanced degree',\n",
    "    'masters program': 'advanced degree',\n",
    "    'dropped out of masters program': 'advanced degree',\n",
    "    'dropped out of ph.d program': 'advanced degree',\n",
    "    'high school': 'high-school',\n",
    "    'dropped out of high school': 'high-school',\n",
    "    'working on high school': 'high-school',\n",
    "    'space camp': 'spacecamp',\n",
    "    'ph.d program': 'advanced degree',\n",
    "    'med school': 'advanced degree',\n",
    "    'law school': 'advanced degree',\n",
    "    'dropped out of law school': 'advanced degree',\n",
    "    'dropped out of med school': 'advanced degree',\n",
    "    'graduated from masters program': 'advanced degree'}\n",
    "\n"
   ]
  },
  {
   "cell_type": "code",
   "execution_count": 30,
   "metadata": {
    "collapsed": true
   },
   "outputs": [],
   "source": [
    "label = label.replace(label_engineering)"
   ]
  },
  {
   "cell_type": "code",
   "execution_count": 31,
   "metadata": {},
   "outputs": [
    {
     "data": {
      "text/plain": [
       "array(['advanced degree', 'bachelors', 'spacecamp', 'associates',\n",
       "       'high-school'], dtype=object)"
      ]
     },
     "execution_count": 31,
     "metadata": {},
     "output_type": "execute_result"
    }
   ],
   "source": [
    "label.unique()"
   ]
  },
  {
   "cell_type": "code",
   "execution_count": 32,
   "metadata": {},
   "outputs": [
    {
     "data": {
      "text/plain": [
       "age            1782\n",
       "body_type      1635\n",
       "drinks         1727\n",
       "drugs          1392\n",
       "ethnicity      1627\n",
       "height         1782\n",
       "income         1782\n",
       "job            1609\n",
       "orientation    1782\n",
       "pets           1230\n",
       "religion       1243\n",
       "sex            1782\n",
       "smokes         1645\n",
       "dtype: int64"
      ]
     },
     "execution_count": 32,
     "metadata": {},
     "output_type": "execute_result"
    }
   ],
   "source": [
    "# Now we must fill in missing values for remaining columns\n",
    "data.count()"
   ]
  },
  {
   "cell_type": "code",
   "execution_count": 33,
   "metadata": {
    "collapsed": true
   },
   "outputs": [],
   "source": [
    "# age and gender are completely full\n",
    "# First we will check unique values for body_type and fill in missing values"
   ]
  },
  {
   "cell_type": "code",
   "execution_count": 34,
   "metadata": {},
   "outputs": [
    {
     "data": {
      "text/plain": [
       "socially       1239\n",
       "rarely          194\n",
       "often           176\n",
       "not at all       90\n",
       "desperately      15\n",
       "very often       13\n",
       "Name: drinks, dtype: int64"
      ]
     },
     "execution_count": 34,
     "metadata": {},
     "output_type": "execute_result"
    }
   ],
   "source": [
    "# we will check unique values for drinks and fill in missing values\n",
    "data['drinks'].value_counts()"
   ]
  },
  {
   "cell_type": "code",
   "execution_count": 42,
   "metadata": {},
   "outputs": [
    {
     "data": {
      "text/plain": [
       "socially       1294\n",
       "rarely          194\n",
       "often           176\n",
       "not at all       90\n",
       "desperately      15\n",
       "very often       13\n",
       "Name: drinks, dtype: int64"
      ]
     },
     "execution_count": 42,
     "metadata": {},
     "output_type": "execute_result"
    }
   ],
   "source": [
    "# as the values are categorical, the mode is 'socially' and makes up about 70% of the total data, so we will fill all \n",
    "# NaNs with 'socially'\n",
    "\n",
    "data['drinks'] = data['drinks'].fillna('socially')\n",
    "data['drinks'].value_counts()"
   ]
  },
  {
   "cell_type": "code",
   "execution_count": null,
   "metadata": {
    "collapsed": true
   },
   "outputs": [],
   "source": [
    "# we will check unique values for drugs and fill in missing values"
   ]
  },
  {
   "cell_type": "code",
   "execution_count": null,
   "metadata": {
    "collapsed": true
   },
   "outputs": [],
   "source": [
    "# we will check unique values for ethnicity and fill in missing values"
   ]
  },
  {
   "cell_type": "code",
   "execution_count": null,
   "metadata": {
    "collapsed": true
   },
   "outputs": [],
   "source": [
    "# we will check unique values for height and fill in missing values"
   ]
  },
  {
   "cell_type": "code",
   "execution_count": null,
   "metadata": {
    "collapsed": true
   },
   "outputs": [],
   "source": [
    "# we will check unique values for income and fill in missing values"
   ]
  },
  {
   "cell_type": "code",
   "execution_count": null,
   "metadata": {
    "collapsed": true
   },
   "outputs": [],
   "source": [
    "# we will check unique values for jobs and fill in missing values"
   ]
  },
  {
   "cell_type": "code",
   "execution_count": null,
   "metadata": {
    "collapsed": true
   },
   "outputs": [],
   "source": [
    "# we will check unique values for orientation and fill in missing values"
   ]
  },
  {
   "cell_type": "code",
   "execution_count": null,
   "metadata": {
    "collapsed": true
   },
   "outputs": [],
   "source": [
    "# we will check unique values for pets and fill in missing values"
   ]
  },
  {
   "cell_type": "code",
   "execution_count": null,
   "metadata": {
    "collapsed": true
   },
   "outputs": [],
   "source": [
    "# we will check unique values for religion and fill in missing values"
   ]
  },
  {
   "cell_type": "code",
   "execution_count": null,
   "metadata": {
    "collapsed": true
   },
   "outputs": [],
   "source": [
    "# we will check unique values for sex and fill in missing values"
   ]
  },
  {
   "cell_type": "code",
   "execution_count": null,
   "metadata": {
    "collapsed": true
   },
   "outputs": [],
   "source": [
    "# we will check unique values for smokes and fill in missing values"
   ]
  },
  {
   "cell_type": "markdown",
   "metadata": {},
   "source": [
    "## Data Exploration"
   ]
  },
  {
   "cell_type": "markdown",
   "metadata": {},
   "source": [
    "## Feature Engineering"
   ]
  },
  {
   "cell_type": "markdown",
   "metadata": {},
   "source": [
    "## Modeling"
   ]
  },
  {
   "cell_type": "markdown",
   "metadata": {},
   "source": [
    "## Results and Analysis"
   ]
  }
 ],
 "metadata": {
  "kernelspec": {
   "display_name": "Python 3",
   "language": "python",
   "name": "python3"
  },
  "language_info": {
   "codemirror_mode": {
    "name": "ipython",
    "version": 3
   },
   "file_extension": ".py",
   "mimetype": "text/x-python",
   "name": "python",
   "nbconvert_exporter": "python",
   "pygments_lexer": "ipython3",
   "version": "3.6.3"
  }
 },
 "nbformat": 4,
 "nbformat_minor": 2
}
